{
 "cells": [
  {
   "cell_type": "code",
   "execution_count": 1,
   "id": "9cbc958c",
   "metadata": {},
   "outputs": [],
   "source": [
    "import pandas as pd\n",
    "from dateutil.parser import parse"
   ]
  },
  {
   "cell_type": "code",
   "execution_count": 10,
   "id": "7869cbf2",
   "metadata": {},
   "outputs": [],
   "source": [
    "file = open(\"data/chat_data.txt\", encoding = \"utf8\")"
   ]
  },
  {
   "cell_type": "code",
   "execution_count": 11,
   "id": "48da9440",
   "metadata": {},
   "outputs": [],
   "source": [
    "chats = file.readlines()"
   ]
  },
  {
   "cell_type": "code",
   "execution_count": null,
   "id": "5d35252b",
   "metadata": {},
   "outputs": [],
   "source": [
    "chats[:10]"
   ]
  },
  {
   "cell_type": "code",
   "execution_count": 13,
   "id": "970df3bd",
   "metadata": {},
   "outputs": [],
   "source": [
    "def is_date(string, fuzzy=False):\n",
    "    try:\n",
    "        parse(string, fuzzy = fuzzy)\n",
    "        return True\n",
    "    except ValueError:\n",
    "        return False"
   ]
  },
  {
   "cell_type": "code",
   "execution_count": 14,
   "id": "7a4ac51c",
   "metadata": {},
   "outputs": [],
   "source": [
    "lines = []\n",
    "\n",
    "for line in chats:\n",
    "    line_list = line.replace(\"\\n\", \"\").split(\",\")\n",
    "    \n",
    "    if is_date(line_list[0]):\n",
    "        lines.append([line_list[0], (\"\".join(line_list[1:]))])\n",
    "        \n",
    "    else:\n",
    "        lines[-1][-1] = lines[-1][-1] + ' ' + line.replace(\"\\n\",\"\")"
   ]
  },
  {
   "cell_type": "code",
   "execution_count": 15,
   "id": "283ea18c",
   "metadata": {},
   "outputs": [],
   "source": [
    "tidy_format = pd.DataFrame(lines, columns = ['date','message'])"
   ]
  },
  {
   "cell_type": "code",
   "execution_count": null,
   "id": "5fc9a8ae",
   "metadata": {},
   "outputs": [],
   "source": [
    "tidy_format.head()"
   ]
  },
  {
   "cell_type": "code",
   "execution_count": 17,
   "id": "df1362c7",
   "metadata": {},
   "outputs": [],
   "source": [
    "time_msg = tidy_format[\"message\"].str.split(\"-\", n = 1, expand = True)\n",
    "tidy_format[\"time\"] = time_msg[0]\n",
    "tidy_format[\"message\"] = time_msg[1]"
   ]
  },
  {
   "cell_type": "code",
   "execution_count": null,
   "id": "b25ecc14",
   "metadata": {},
   "outputs": [],
   "source": [
    "tidy_format.head()"
   ]
  },
  {
   "cell_type": "code",
   "execution_count": 18,
   "id": "19decba4",
   "metadata": {},
   "outputs": [],
   "source": [
    "user_msg = tidy_format[\"message\"].str.split(\":\", n = 1, expand = True)\n",
    "tidy_format[\"author\"] = user_msg[0]\n",
    "tidy_format[\"message\"] = user_msg[1]"
   ]
  },
  {
   "cell_type": "code",
   "execution_count": null,
   "id": "3e61ea8e",
   "metadata": {},
   "outputs": [],
   "source": [
    "tidy_format.head()"
   ]
  },
  {
   "cell_type": "code",
   "execution_count": 19,
   "id": "876e7cf7",
   "metadata": {},
   "outputs": [],
   "source": [
    "tidy_format['id'] = range(1, 1+len(tidy_format))"
   ]
  },
  {
   "cell_type": "code",
   "execution_count": null,
   "id": "64bbb641",
   "metadata": {},
   "outputs": [],
   "source": [
    "tidy_format = tidy_format[[\"id\",\"date\",\"time\",\"author\",\"message\"]]\n",
    "\n",
    "tidy_format.head()"
   ]
  },
  {
   "cell_type": "code",
   "execution_count": null,
   "id": "1a415908",
   "metadata": {},
   "outputs": [],
   "source": [
    "pattern = r\"(http[s]?://(?:[a-zA-Z]|[0-9]|[$-_@.&+]|[!*\\\\(\\\\),]|(?:%[0-9a-fA-F][0-9a-fA-F]))+)\"\n",
    "\n",
    "urls_extract = tidy_format.message.str.extractall(pattern)\n",
    "\n",
    "urls_extract.head()"
   ]
  },
  {
   "cell_type": "code",
   "execution_count": 22,
   "id": "4d8eaf56",
   "metadata": {},
   "outputs": [],
   "source": [
    "url_id = []\n",
    "\n",
    "for i in range(0,len(urls_extract)):\n",
    "    \n",
    "    add_list = urls_extract.index[[i]][0][0] + 1\n",
    "    \n",
    "    url_id.append(add_list)"
   ]
  },
  {
   "cell_type": "code",
   "execution_count": null,
   "id": "f977120a",
   "metadata": {},
   "outputs": [],
   "source": [
    "urls_extract['id'] = url_id\n",
    "\n",
    "urls_extract.head()"
   ]
  },
  {
   "cell_type": "code",
   "execution_count": 24,
   "id": "ccae6a62",
   "metadata": {},
   "outputs": [],
   "source": [
    "links_tbl = pd.merge(tidy_format, urls_extract, on = \"id\", how = \"inner\")"
   ]
  },
  {
   "cell_type": "code",
   "execution_count": 25,
   "id": "845bd250",
   "metadata": {},
   "outputs": [],
   "source": [
    "links_tbl.columns = ['id', 'date', 'time', 'author', 'message', 'url']"
   ]
  },
  {
   "cell_type": "code",
   "execution_count": null,
   "id": "8af77415",
   "metadata": {},
   "outputs": [],
   "source": [
    "links_tbl.tail()"
   ]
  },
  {
   "cell_type": "code",
   "execution_count": null,
   "id": "5d225e35",
   "metadata": {},
   "outputs": [],
   "source": [
    "links_tbl.shape"
   ]
  },
  {
   "cell_type": "code",
   "execution_count": null,
   "id": "af9242c9",
   "metadata": {},
   "outputs": [],
   "source": [
    "## links_tbl.to_csv(\"python_results.csv\")"
   ]
  }
 ],
 "metadata": {
  "kernelspec": {
   "display_name": "Python 3 (ipykernel)",
   "language": "python",
   "name": "python3"
  },
  "language_info": {
   "codemirror_mode": {
    "name": "ipython",
    "version": 3
   },
   "file_extension": ".py",
   "mimetype": "text/x-python",
   "name": "python",
   "nbconvert_exporter": "python",
   "pygments_lexer": "ipython3",
   "version": "3.7.11"
  }
 },
 "nbformat": 4,
 "nbformat_minor": 5
}
