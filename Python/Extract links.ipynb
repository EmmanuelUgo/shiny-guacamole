{
 "cells": [
  {
   "cell_type": "code",
   "execution_count": 1,
   "id": "9cbc958c",
   "metadata": {},
   "outputs": [],
   "source": [
    "import pandas as pd\n",
    "from dateutil.parser import parse"
   ]
  },
  {
   "cell_type": "code",
   "execution_count": 10,
   "id": "7869cbf2",
   "metadata": {},
   "outputs": [],
   "source": [
    "file = open(\"data/chat_data.txt\", encoding = \"utf8\")"
   ]
  },
  {
   "cell_type": "code",
   "execution_count": 11,
   "id": "48da9440",
   "metadata": {},
   "outputs": [],
   "source": [
    "chats = file.readlines()"
   ]
  },
  {
   "cell_type": "code",
   "execution_count": 12,
   "id": "5d35252b",
   "metadata": {},
   "outputs": [
    {
     "data": {
      "text/plain": [
       "['19/09/2021, 11:27 pm - Messages and calls are end-to-end encrypted. No one outside of this chat, not even WhatsApp, can read or listen to them. Tap to learn more.\\n',\n",
       " '06/10/2019, 4:06 pm - +27 61 290 0591 created group \"Young Data Professionals\"\\n',\n",
       " \"19/09/2021, 11:27 pm - You joined using this group's invite link\\n\",\n",
       " '19/09/2021, 11:30 pm - +234 816 062 6971: 😂 that was fast\\n',\n",
       " '19/09/2021, 11:31 pm - +234 818 368 5814: This one that people are leaving 😂😂😂\\n',\n",
       " '19/09/2021, 11:31 pm - Ability: Mad o😂😂\\n',\n",
       " '19/09/2021, 11:31 pm - +234 818 368 5814: Abhi they’ve seen money somewhere ni\\n',\n",
       " '19/09/2021, 11:31 pm - Ability: People no dey sleep ni😂\\n',\n",
       " '19/09/2021, 11:32 pm - Ability: Na another R guru enter this group low-key o👀\\n',\n",
       " '19/09/2021, 11:32 pm - +234 816 062 6971: Nah only you no dey sleep\\n']"
      ]
     },
     "execution_count": 12,
     "metadata": {},
     "output_type": "execute_result"
    }
   ],
   "source": [
    "chats[:10]"
   ]
  },
  {
   "cell_type": "code",
   "execution_count": 13,
   "id": "970df3bd",
   "metadata": {},
   "outputs": [],
   "source": [
    "def is_date(string, fuzzy=False):\n",
    "    try:\n",
    "        parse(string, fuzzy = fuzzy)\n",
    "        return True\n",
    "    except ValueError:\n",
    "        return False"
   ]
  },
  {
   "cell_type": "code",
   "execution_count": 14,
   "id": "7a4ac51c",
   "metadata": {},
   "outputs": [],
   "source": [
    "lines = []\n",
    "\n",
    "for line in chats:\n",
    "    line_list = line.replace(\"\\n\", \"\").split(\",\")\n",
    "    \n",
    "    if is_date(line_list[0]):\n",
    "        lines.append([line_list[0], (\"\".join(line_list[1:]))])\n",
    "        \n",
    "    else:\n",
    "        lines[-1][-1] = lines[-1][-1] + ' ' + line.replace(\"\\n\",\"\")"
   ]
  },
  {
   "cell_type": "code",
   "execution_count": 15,
   "id": "283ea18c",
   "metadata": {},
   "outputs": [],
   "source": [
    "tidy_format = pd.DataFrame(lines, columns = ['date','message'])"
   ]
  },
  {
   "cell_type": "code",
   "execution_count": 16,
   "id": "5fc9a8ae",
   "metadata": {},
   "outputs": [
    {
     "data": {
      "text/html": [
       "<div>\n",
       "<style scoped>\n",
       "    .dataframe tbody tr th:only-of-type {\n",
       "        vertical-align: middle;\n",
       "    }\n",
       "\n",
       "    .dataframe tbody tr th {\n",
       "        vertical-align: top;\n",
       "    }\n",
       "\n",
       "    .dataframe thead th {\n",
       "        text-align: right;\n",
       "    }\n",
       "</style>\n",
       "<table border=\"1\" class=\"dataframe\">\n",
       "  <thead>\n",
       "    <tr style=\"text-align: right;\">\n",
       "      <th></th>\n",
       "      <th>date</th>\n",
       "      <th>message</th>\n",
       "    </tr>\n",
       "  </thead>\n",
       "  <tbody>\n",
       "    <tr>\n",
       "      <th>0</th>\n",
       "      <td>19/09/2021</td>\n",
       "      <td>11:27 pm - Messages and calls are end-to-end ...</td>\n",
       "    </tr>\n",
       "    <tr>\n",
       "      <th>1</th>\n",
       "      <td>06/10/2019</td>\n",
       "      <td>4:06 pm - +27 61 290 0591 created group \"Youn...</td>\n",
       "    </tr>\n",
       "    <tr>\n",
       "      <th>2</th>\n",
       "      <td>19/09/2021</td>\n",
       "      <td>11:27 pm - You joined using this group's invi...</td>\n",
       "    </tr>\n",
       "    <tr>\n",
       "      <th>3</th>\n",
       "      <td>19/09/2021</td>\n",
       "      <td>11:30 pm - +234 816 062 6971: 😂 that was fast</td>\n",
       "    </tr>\n",
       "    <tr>\n",
       "      <th>4</th>\n",
       "      <td>19/09/2021</td>\n",
       "      <td>11:31 pm - +234 818 368 5814: This one that p...</td>\n",
       "    </tr>\n",
       "  </tbody>\n",
       "</table>\n",
       "</div>"
      ],
      "text/plain": [
       "         date                                            message\n",
       "0  19/09/2021   11:27 pm - Messages and calls are end-to-end ...\n",
       "1  06/10/2019   4:06 pm - +27 61 290 0591 created group \"Youn...\n",
       "2  19/09/2021   11:27 pm - You joined using this group's invi...\n",
       "3  19/09/2021      11:30 pm - +234 816 062 6971: 😂 that was fast\n",
       "4  19/09/2021   11:31 pm - +234 818 368 5814: This one that p..."
      ]
     },
     "execution_count": 16,
     "metadata": {},
     "output_type": "execute_result"
    }
   ],
   "source": [
    "tidy_format.head()"
   ]
  },
  {
   "cell_type": "code",
   "execution_count": 17,
   "id": "df1362c7",
   "metadata": {},
   "outputs": [],
   "source": [
    "time_msg = tidy_format[\"message\"].str.split(\"-\", n = 1, expand = True)\n",
    "tidy_format[\"time\"] = time_msg[0]\n",
    "tidy_format[\"message\"] = time_msg[1]"
   ]
  },
  {
   "cell_type": "code",
   "execution_count": null,
   "id": "b25ecc14",
   "metadata": {},
   "outputs": [],
   "source": [
    "tidy_format.head()"
   ]
  },
  {
   "cell_type": "code",
   "execution_count": 18,
   "id": "19decba4",
   "metadata": {},
   "outputs": [],
   "source": [
    "user_msg = tidy_format[\"message\"].str.split(\":\", n = 1, expand = True)\n",
    "tidy_format[\"author\"] = user_msg[0]\n",
    "tidy_format[\"message\"] = user_msg[1]"
   ]
  },
  {
   "cell_type": "code",
   "execution_count": null,
   "id": "3e61ea8e",
   "metadata": {},
   "outputs": [],
   "source": [
    "tidy_format.head()"
   ]
  },
  {
   "cell_type": "code",
   "execution_count": 19,
   "id": "876e7cf7",
   "metadata": {},
   "outputs": [],
   "source": [
    "tidy_format['id'] = range(1, 1+len(tidy_format))"
   ]
  },
  {
   "cell_type": "code",
   "execution_count": 20,
   "id": "64bbb641",
   "metadata": {},
   "outputs": [
    {
     "data": {
      "text/html": [
       "<div>\n",
       "<style scoped>\n",
       "    .dataframe tbody tr th:only-of-type {\n",
       "        vertical-align: middle;\n",
       "    }\n",
       "\n",
       "    .dataframe tbody tr th {\n",
       "        vertical-align: top;\n",
       "    }\n",
       "\n",
       "    .dataframe thead th {\n",
       "        text-align: right;\n",
       "    }\n",
       "</style>\n",
       "<table border=\"1\" class=\"dataframe\">\n",
       "  <thead>\n",
       "    <tr style=\"text-align: right;\">\n",
       "      <th></th>\n",
       "      <th>id</th>\n",
       "      <th>date</th>\n",
       "      <th>time</th>\n",
       "      <th>author</th>\n",
       "      <th>message</th>\n",
       "    </tr>\n",
       "  </thead>\n",
       "  <tbody>\n",
       "    <tr>\n",
       "      <th>0</th>\n",
       "      <td>1</td>\n",
       "      <td>19/09/2021</td>\n",
       "      <td>11:27 pm</td>\n",
       "      <td>Messages and calls are end-to-end encrypted. ...</td>\n",
       "      <td>None</td>\n",
       "    </tr>\n",
       "    <tr>\n",
       "      <th>1</th>\n",
       "      <td>2</td>\n",
       "      <td>06/10/2019</td>\n",
       "      <td>4:06 pm</td>\n",
       "      <td>+27 61 290 0591 created group \"Young Data Pro...</td>\n",
       "      <td>None</td>\n",
       "    </tr>\n",
       "    <tr>\n",
       "      <th>2</th>\n",
       "      <td>3</td>\n",
       "      <td>19/09/2021</td>\n",
       "      <td>11:27 pm</td>\n",
       "      <td>You joined using this group's invite link</td>\n",
       "      <td>None</td>\n",
       "    </tr>\n",
       "    <tr>\n",
       "      <th>3</th>\n",
       "      <td>4</td>\n",
       "      <td>19/09/2021</td>\n",
       "      <td>11:30 pm</td>\n",
       "      <td>+234 816 062 6971</td>\n",
       "      <td>😂 that was fast</td>\n",
       "    </tr>\n",
       "    <tr>\n",
       "      <th>4</th>\n",
       "      <td>5</td>\n",
       "      <td>19/09/2021</td>\n",
       "      <td>11:31 pm</td>\n",
       "      <td>+234 818 368 5814</td>\n",
       "      <td>This one that people are leaving 😂😂😂</td>\n",
       "    </tr>\n",
       "  </tbody>\n",
       "</table>\n",
       "</div>"
      ],
      "text/plain": [
       "   id        date        time  \\\n",
       "0   1  19/09/2021   11:27 pm    \n",
       "1   2  06/10/2019    4:06 pm    \n",
       "2   3  19/09/2021   11:27 pm    \n",
       "3   4  19/09/2021   11:30 pm    \n",
       "4   5  19/09/2021   11:31 pm    \n",
       "\n",
       "                                              author  \\\n",
       "0   Messages and calls are end-to-end encrypted. ...   \n",
       "1   +27 61 290 0591 created group \"Young Data Pro...   \n",
       "2          You joined using this group's invite link   \n",
       "3                                  +234 816 062 6971   \n",
       "4                                  +234 818 368 5814   \n",
       "\n",
       "                                 message  \n",
       "0                                   None  \n",
       "1                                   None  \n",
       "2                                   None  \n",
       "3                        😂 that was fast  \n",
       "4   This one that people are leaving 😂😂😂  "
      ]
     },
     "execution_count": 20,
     "metadata": {},
     "output_type": "execute_result"
    }
   ],
   "source": [
    "tidy_format = tidy_format[[\"id\",\"date\",\"time\",\"author\",\"message\"]]\n",
    "\n",
    "tidy_format.head()"
   ]
  },
  {
   "cell_type": "code",
   "execution_count": 21,
   "id": "1a415908",
   "metadata": {},
   "outputs": [
    {
     "data": {
      "text/html": [
       "<div>\n",
       "<style scoped>\n",
       "    .dataframe tbody tr th:only-of-type {\n",
       "        vertical-align: middle;\n",
       "    }\n",
       "\n",
       "    .dataframe tbody tr th {\n",
       "        vertical-align: top;\n",
       "    }\n",
       "\n",
       "    .dataframe thead th {\n",
       "        text-align: right;\n",
       "    }\n",
       "</style>\n",
       "<table border=\"1\" class=\"dataframe\">\n",
       "  <thead>\n",
       "    <tr style=\"text-align: right;\">\n",
       "      <th></th>\n",
       "      <th></th>\n",
       "      <th>0</th>\n",
       "    </tr>\n",
       "    <tr>\n",
       "      <th></th>\n",
       "      <th>match</th>\n",
       "      <th></th>\n",
       "    </tr>\n",
       "  </thead>\n",
       "  <tbody>\n",
       "    <tr>\n",
       "      <th>62</th>\n",
       "      <th>0</th>\n",
       "      <td>https://uk.indeed.com/rc/clk/dl?jk=c30cb4cea48...</td>\n",
       "    </tr>\n",
       "    <tr>\n",
       "      <th>63</th>\n",
       "      <th>0</th>\n",
       "      <td>https://uk.indeed.com/rc/clk/dl?jk=90161cdf743...</td>\n",
       "    </tr>\n",
       "    <tr>\n",
       "      <th>64</th>\n",
       "      <th>0</th>\n",
       "      <td>https://www.sli.do/careers/jobs-data-analyst</td>\n",
       "    </tr>\n",
       "    <tr>\n",
       "      <th>217</th>\n",
       "      <th>0</th>\n",
       "      <td>https://learning.edx.org/course/course-v1:MITx...</td>\n",
       "    </tr>\n",
       "    <tr>\n",
       "      <th>242</th>\n",
       "      <th>0</th>\n",
       "      <td>https://uk.indeed.com/m/viewjob?jk=f11e9a39f0e...</td>\n",
       "    </tr>\n",
       "  </tbody>\n",
       "</table>\n",
       "</div>"
      ],
      "text/plain": [
       "                                                           0\n",
       "    match                                                   \n",
       "62  0      https://uk.indeed.com/rc/clk/dl?jk=c30cb4cea48...\n",
       "63  0      https://uk.indeed.com/rc/clk/dl?jk=90161cdf743...\n",
       "64  0           https://www.sli.do/careers/jobs-data-analyst\n",
       "217 0      https://learning.edx.org/course/course-v1:MITx...\n",
       "242 0      https://uk.indeed.com/m/viewjob?jk=f11e9a39f0e..."
      ]
     },
     "execution_count": 21,
     "metadata": {},
     "output_type": "execute_result"
    }
   ],
   "source": [
    "pattern = r\"(http[s]?://(?:[a-zA-Z]|[0-9]|[$-_@.&+]|[!*\\\\(\\\\),]|(?:%[0-9a-fA-F][0-9a-fA-F]))+)\"\n",
    "\n",
    "urls_extract = tidy_format.message.str.extractall(pattern)\n",
    "\n",
    "urls_extract.head()"
   ]
  },
  {
   "cell_type": "code",
   "execution_count": 22,
   "id": "4d8eaf56",
   "metadata": {},
   "outputs": [],
   "source": [
    "url_id = []\n",
    "\n",
    "for i in range(0,len(urls_extract)):\n",
    "    \n",
    "    add_list = urls_extract.index[[i]][0][0] + 1\n",
    "    \n",
    "    url_id.append(add_list)"
   ]
  },
  {
   "cell_type": "code",
   "execution_count": 23,
   "id": "f977120a",
   "metadata": {},
   "outputs": [
    {
     "data": {
      "text/html": [
       "<div>\n",
       "<style scoped>\n",
       "    .dataframe tbody tr th:only-of-type {\n",
       "        vertical-align: middle;\n",
       "    }\n",
       "\n",
       "    .dataframe tbody tr th {\n",
       "        vertical-align: top;\n",
       "    }\n",
       "\n",
       "    .dataframe thead th {\n",
       "        text-align: right;\n",
       "    }\n",
       "</style>\n",
       "<table border=\"1\" class=\"dataframe\">\n",
       "  <thead>\n",
       "    <tr style=\"text-align: right;\">\n",
       "      <th></th>\n",
       "      <th></th>\n",
       "      <th>0</th>\n",
       "      <th>id</th>\n",
       "    </tr>\n",
       "    <tr>\n",
       "      <th></th>\n",
       "      <th>match</th>\n",
       "      <th></th>\n",
       "      <th></th>\n",
       "    </tr>\n",
       "  </thead>\n",
       "  <tbody>\n",
       "    <tr>\n",
       "      <th>62</th>\n",
       "      <th>0</th>\n",
       "      <td>https://uk.indeed.com/rc/clk/dl?jk=c30cb4cea48...</td>\n",
       "      <td>63</td>\n",
       "    </tr>\n",
       "    <tr>\n",
       "      <th>63</th>\n",
       "      <th>0</th>\n",
       "      <td>https://uk.indeed.com/rc/clk/dl?jk=90161cdf743...</td>\n",
       "      <td>64</td>\n",
       "    </tr>\n",
       "    <tr>\n",
       "      <th>64</th>\n",
       "      <th>0</th>\n",
       "      <td>https://www.sli.do/careers/jobs-data-analyst</td>\n",
       "      <td>65</td>\n",
       "    </tr>\n",
       "    <tr>\n",
       "      <th>217</th>\n",
       "      <th>0</th>\n",
       "      <td>https://learning.edx.org/course/course-v1:MITx...</td>\n",
       "      <td>218</td>\n",
       "    </tr>\n",
       "    <tr>\n",
       "      <th>242</th>\n",
       "      <th>0</th>\n",
       "      <td>https://uk.indeed.com/m/viewjob?jk=f11e9a39f0e...</td>\n",
       "      <td>243</td>\n",
       "    </tr>\n",
       "  </tbody>\n",
       "</table>\n",
       "</div>"
      ],
      "text/plain": [
       "                                                           0   id\n",
       "    match                                                        \n",
       "62  0      https://uk.indeed.com/rc/clk/dl?jk=c30cb4cea48...   63\n",
       "63  0      https://uk.indeed.com/rc/clk/dl?jk=90161cdf743...   64\n",
       "64  0           https://www.sli.do/careers/jobs-data-analyst   65\n",
       "217 0      https://learning.edx.org/course/course-v1:MITx...  218\n",
       "242 0      https://uk.indeed.com/m/viewjob?jk=f11e9a39f0e...  243"
      ]
     },
     "execution_count": 23,
     "metadata": {},
     "output_type": "execute_result"
    }
   ],
   "source": [
    "urls_extract['id'] = url_id\n",
    "\n",
    "urls_extract.head()"
   ]
  },
  {
   "cell_type": "code",
   "execution_count": 24,
   "id": "ccae6a62",
   "metadata": {},
   "outputs": [],
   "source": [
    "links_tbl = pd.merge(tidy_format, urls_extract, on = \"id\", how = \"inner\")"
   ]
  },
  {
   "cell_type": "code",
   "execution_count": 25,
   "id": "845bd250",
   "metadata": {},
   "outputs": [],
   "source": [
    "links_tbl.columns = ['id', 'date', 'time', 'author', 'message', 'url']"
   ]
  },
  {
   "cell_type": "code",
   "execution_count": 27,
   "id": "8af77415",
   "metadata": {},
   "outputs": [
    {
     "data": {
      "text/html": [
       "<div>\n",
       "<style scoped>\n",
       "    .dataframe tbody tr th:only-of-type {\n",
       "        vertical-align: middle;\n",
       "    }\n",
       "\n",
       "    .dataframe tbody tr th {\n",
       "        vertical-align: top;\n",
       "    }\n",
       "\n",
       "    .dataframe thead th {\n",
       "        text-align: right;\n",
       "    }\n",
       "</style>\n",
       "<table border=\"1\" class=\"dataframe\">\n",
       "  <thead>\n",
       "    <tr style=\"text-align: right;\">\n",
       "      <th></th>\n",
       "      <th>id</th>\n",
       "      <th>date</th>\n",
       "      <th>time</th>\n",
       "      <th>author</th>\n",
       "      <th>message</th>\n",
       "      <th>url</th>\n",
       "    </tr>\n",
       "  </thead>\n",
       "  <tbody>\n",
       "    <tr>\n",
       "      <th>466</th>\n",
       "      <td>17542</td>\n",
       "      <td>21/02/2022</td>\n",
       "      <td>5:26 pm</td>\n",
       "      <td>+234 813 780 3722</td>\n",
       "      <td>https://fabiosamedia.com/jobs/data-analyst/1206/</td>\n",
       "      <td>https://fabiosamedia.com/jobs/data-analyst/1206/</td>\n",
       "    </tr>\n",
       "    <tr>\n",
       "      <th>467</th>\n",
       "      <td>17555</td>\n",
       "      <td>21/02/2022</td>\n",
       "      <td>6:57 pm</td>\n",
       "      <td>+234 813 780 3722</td>\n",
       "      <td>https://toggl.com/jobs/toggltrack-data-analyst/</td>\n",
       "      <td>https://toggl.com/jobs/toggltrack-data-analyst/</td>\n",
       "    </tr>\n",
       "    <tr>\n",
       "      <th>468</th>\n",
       "      <td>17631</td>\n",
       "      <td>22/02/2022</td>\n",
       "      <td>12:27 am</td>\n",
       "      <td>+234 803 353 6901</td>\n",
       "      <td>https://z-lib.org/   Check here</td>\n",
       "      <td>https://z-lib.org/</td>\n",
       "    </tr>\n",
       "    <tr>\n",
       "      <th>469</th>\n",
       "      <td>17656</td>\n",
       "      <td>22/02/2022</td>\n",
       "      <td>12:30 pm</td>\n",
       "      <td>+234 703 806 5681</td>\n",
       "      <td>https://www.numbeo.com/cost-of-living/in/London</td>\n",
       "      <td>https://www.numbeo.com/cost-of-living/in/London</td>\n",
       "    </tr>\n",
       "    <tr>\n",
       "      <th>470</th>\n",
       "      <td>17672</td>\n",
       "      <td>22/02/2022</td>\n",
       "      <td>12:51 pm</td>\n",
       "      <td>+234 816 718 7102</td>\n",
       "      <td>https://www.linkedin.com/posts/piggyvest_pigg...</td>\n",
       "      <td>https://www.linkedin.com/posts/piggyvest_piggy...</td>\n",
       "    </tr>\n",
       "  </tbody>\n",
       "</table>\n",
       "</div>"
      ],
      "text/plain": [
       "        id        date        time              author  \\\n",
       "466  17542  21/02/2022    5:26 pm    +234 813 780 3722   \n",
       "467  17555  21/02/2022    6:57 pm    +234 813 780 3722   \n",
       "468  17631  22/02/2022   12:27 am    +234 803 353 6901   \n",
       "469  17656  22/02/2022   12:30 pm    +234 703 806 5681   \n",
       "470  17672  22/02/2022   12:51 pm    +234 816 718 7102   \n",
       "\n",
       "                                               message  \\\n",
       "466   https://fabiosamedia.com/jobs/data-analyst/1206/   \n",
       "467    https://toggl.com/jobs/toggltrack-data-analyst/   \n",
       "468                    https://z-lib.org/   Check here   \n",
       "469    https://www.numbeo.com/cost-of-living/in/London   \n",
       "470   https://www.linkedin.com/posts/piggyvest_pigg...   \n",
       "\n",
       "                                                   url  \n",
       "466   https://fabiosamedia.com/jobs/data-analyst/1206/  \n",
       "467    https://toggl.com/jobs/toggltrack-data-analyst/  \n",
       "468                                 https://z-lib.org/  \n",
       "469    https://www.numbeo.com/cost-of-living/in/London  \n",
       "470  https://www.linkedin.com/posts/piggyvest_piggy...  "
      ]
     },
     "execution_count": 27,
     "metadata": {},
     "output_type": "execute_result"
    }
   ],
   "source": [
    "links_tbl.tail()"
   ]
  },
  {
   "cell_type": "code",
   "execution_count": 28,
   "id": "5d225e35",
   "metadata": {},
   "outputs": [
    {
     "data": {
      "text/plain": [
       "(471, 6)"
      ]
     },
     "execution_count": 28,
     "metadata": {},
     "output_type": "execute_result"
    }
   ],
   "source": [
    "links_tbl.shape"
   ]
  },
  {
   "cell_type": "code",
   "execution_count": null,
   "id": "af9242c9",
   "metadata": {},
   "outputs": [],
   "source": [
    "## links_tbl.to_csv(\"python_results.csv\")"
   ]
  },
  {
   "cell_type": "code",
   "execution_count": 43,
   "id": "50fa853c",
   "metadata": {},
   "outputs": [],
   "source": [
    "df[\"date_time\"] = pd.to_datetime(df.Date + df.Time, errors = 'coerce')"
   ]
  },
  {
   "cell_type": "code",
   "execution_count": 35,
   "id": "0866642c",
   "metadata": {},
   "outputs": [
    {
     "data": {
      "text/html": [
       "<div>\n",
       "<style scoped>\n",
       "    .dataframe tbody tr th:only-of-type {\n",
       "        vertical-align: middle;\n",
       "    }\n",
       "\n",
       "    .dataframe tbody tr th {\n",
       "        vertical-align: top;\n",
       "    }\n",
       "\n",
       "    .dataframe thead th {\n",
       "        text-align: right;\n",
       "    }\n",
       "</style>\n",
       "<table border=\"1\" class=\"dataframe\">\n",
       "  <thead>\n",
       "    <tr style=\"text-align: right;\">\n",
       "      <th></th>\n",
       "      <th>id</th>\n",
       "      <th>date</th>\n",
       "      <th>time</th>\n",
       "      <th>author</th>\n",
       "      <th>message</th>\n",
       "      <th>date_time</th>\n",
       "    </tr>\n",
       "  </thead>\n",
       "  <tbody>\n",
       "    <tr>\n",
       "      <th>0</th>\n",
       "      <td>1</td>\n",
       "      <td>19/09/2021</td>\n",
       "      <td>11:27 pm</td>\n",
       "      <td>Messages and calls are end-to-end encrypted. ...</td>\n",
       "      <td>None</td>\n",
       "      <td>2021-09-19 23:27:00</td>\n",
       "    </tr>\n",
       "    <tr>\n",
       "      <th>1</th>\n",
       "      <td>2</td>\n",
       "      <td>06/10/2019</td>\n",
       "      <td>4:06 pm</td>\n",
       "      <td>+27 61 290 0591 created group \"Young Data Pro...</td>\n",
       "      <td>None</td>\n",
       "      <td>2019-06-10 16:06:00</td>\n",
       "    </tr>\n",
       "    <tr>\n",
       "      <th>2</th>\n",
       "      <td>3</td>\n",
       "      <td>19/09/2021</td>\n",
       "      <td>11:27 pm</td>\n",
       "      <td>You joined using this group's invite link</td>\n",
       "      <td>None</td>\n",
       "      <td>2021-09-19 23:27:00</td>\n",
       "    </tr>\n",
       "    <tr>\n",
       "      <th>3</th>\n",
       "      <td>4</td>\n",
       "      <td>19/09/2021</td>\n",
       "      <td>11:30 pm</td>\n",
       "      <td>+234 816 062 6971</td>\n",
       "      <td>😂 that was fast</td>\n",
       "      <td>2021-09-19 23:30:00</td>\n",
       "    </tr>\n",
       "    <tr>\n",
       "      <th>4</th>\n",
       "      <td>5</td>\n",
       "      <td>19/09/2021</td>\n",
       "      <td>11:31 pm</td>\n",
       "      <td>+234 818 368 5814</td>\n",
       "      <td>This one that people are leaving 😂😂😂</td>\n",
       "      <td>2021-09-19 23:31:00</td>\n",
       "    </tr>\n",
       "    <tr>\n",
       "      <th>...</th>\n",
       "      <td>...</td>\n",
       "      <td>...</td>\n",
       "      <td>...</td>\n",
       "      <td>...</td>\n",
       "      <td>...</td>\n",
       "      <td>...</td>\n",
       "    </tr>\n",
       "    <tr>\n",
       "      <th>17679</th>\n",
       "      <td>17680</td>\n",
       "      <td>22/02/2022</td>\n",
       "      <td>1:19 pm</td>\n",
       "      <td>+234 708 531 6273</td>\n",
       "      <td>One thing I have come to find out is that the...</td>\n",
       "      <td>2022-02-22 13:19:00</td>\n",
       "    </tr>\n",
       "    <tr>\n",
       "      <th>17680</th>\n",
       "      <td>17681</td>\n",
       "      <td>22/02/2022</td>\n",
       "      <td>1:20 pm</td>\n",
       "      <td>+234 703 806 5681</td>\n",
       "      <td>The list gives you the standard cost of every...</td>\n",
       "      <td>2022-02-22 13:20:00</td>\n",
       "    </tr>\n",
       "    <tr>\n",
       "      <th>17681</th>\n",
       "      <td>17682</td>\n",
       "      <td>22/02/2022</td>\n",
       "      <td>1:20 pm</td>\n",
       "      <td>+234 816 381 5935</td>\n",
       "      <td>QESaid. I completely agree with you on this.</td>\n",
       "      <td>2022-02-22 13:20:00</td>\n",
       "    </tr>\n",
       "    <tr>\n",
       "      <th>17682</th>\n",
       "      <td>17683</td>\n",
       "      <td>22/02/2022</td>\n",
       "      <td>1:21 pm</td>\n",
       "      <td>+234 703 806 5681</td>\n",
       "      <td>London like Dublin has multiple zones. Same a...</td>\n",
       "      <td>2022-02-22 13:21:00</td>\n",
       "    </tr>\n",
       "    <tr>\n",
       "      <th>17683</th>\n",
       "      <td>17684</td>\n",
       "      <td>22/02/2022</td>\n",
       "      <td>1:21 pm</td>\n",
       "      <td>+234 816 381 5935</td>\n",
       "      <td>I'm in the UK for about two weeks and I can't...</td>\n",
       "      <td>2022-02-22 13:21:00</td>\n",
       "    </tr>\n",
       "  </tbody>\n",
       "</table>\n",
       "<p>17684 rows × 6 columns</p>\n",
       "</div>"
      ],
      "text/plain": [
       "          id        date        time  \\\n",
       "0          1  19/09/2021   11:27 pm    \n",
       "1          2  06/10/2019    4:06 pm    \n",
       "2          3  19/09/2021   11:27 pm    \n",
       "3          4  19/09/2021   11:30 pm    \n",
       "4          5  19/09/2021   11:31 pm    \n",
       "...      ...         ...         ...   \n",
       "17679  17680  22/02/2022    1:19 pm    \n",
       "17680  17681  22/02/2022    1:20 pm    \n",
       "17681  17682  22/02/2022    1:20 pm    \n",
       "17682  17683  22/02/2022    1:21 pm    \n",
       "17683  17684  22/02/2022    1:21 pm    \n",
       "\n",
       "                                                  author  \\\n",
       "0       Messages and calls are end-to-end encrypted. ...   \n",
       "1       +27 61 290 0591 created group \"Young Data Pro...   \n",
       "2              You joined using this group's invite link   \n",
       "3                                      +234 816 062 6971   \n",
       "4                                      +234 818 368 5814   \n",
       "...                                                  ...   \n",
       "17679                                  +234 708 531 6273   \n",
       "17680                                  +234 703 806 5681   \n",
       "17681                                  +234 816 381 5935   \n",
       "17682                                  +234 703 806 5681   \n",
       "17683                                  +234 816 381 5935   \n",
       "\n",
       "                                                 message           date_time  \n",
       "0                                                   None 2021-09-19 23:27:00  \n",
       "1                                                   None 2019-06-10 16:06:00  \n",
       "2                                                   None 2021-09-19 23:27:00  \n",
       "3                                        😂 that was fast 2021-09-19 23:30:00  \n",
       "4                   This one that people are leaving 😂😂😂 2021-09-19 23:31:00  \n",
       "...                                                  ...                 ...  \n",
       "17679   One thing I have come to find out is that the... 2022-02-22 13:19:00  \n",
       "17680   The list gives you the standard cost of every... 2022-02-22 13:20:00  \n",
       "17681       QESaid. I completely agree with you on this. 2022-02-22 13:20:00  \n",
       "17682   London like Dublin has multiple zones. Same a... 2022-02-22 13:21:00  \n",
       "17683   I'm in the UK for about two weeks and I can't... 2022-02-22 13:21:00  \n",
       "\n",
       "[17684 rows x 6 columns]"
      ]
     },
     "execution_count": 35,
     "metadata": {},
     "output_type": "execute_result"
    }
   ],
   "source": [
    "tidy_format"
   ]
  },
  {
   "cell_type": "code",
   "execution_count": 75,
   "id": "9c125a46",
   "metadata": {},
   "outputs": [
    {
     "data": {
      "text/plain": [
       "Timestamp('2022-02-22 13:21:00')"
      ]
     },
     "execution_count": 75,
     "metadata": {},
     "output_type": "execute_result"
    }
   ],
   "source": [
    "df.date_time.max()"
   ]
  },
  {
   "cell_type": "code",
   "execution_count": 63,
   "id": "53cbbb57",
   "metadata": {},
   "outputs": [
    {
     "ename": "NameError",
     "evalue": "name 'last_record' is not defined",
     "output_type": "error",
     "traceback": [
      "\u001b[1;31m---------------------------------------------------------------------------\u001b[0m",
      "\u001b[1;31mNameError\u001b[0m                                 Traceback (most recent call last)",
      "\u001b[1;32m~\\AppData\\Local\\Temp/ipykernel_11524/1363647526.py\u001b[0m in \u001b[0;36m<module>\u001b[1;34m\u001b[0m\n\u001b[1;32m----> 1\u001b[1;33m \u001b[0mlast_record\u001b[0m\u001b[1;33m[\u001b[0m\u001b[1;36m0\u001b[0m\u001b[1;33m]\u001b[0m\u001b[1;33m\u001b[0m\u001b[1;33m\u001b[0m\u001b[0m\n\u001b[0m",
      "\u001b[1;31mNameError\u001b[0m: name 'last_record' is not defined"
     ]
    }
   ],
   "source": [
    "last_record[0]"
   ]
  },
  {
   "cell_type": "code",
   "execution_count": 62,
   "id": "5e9a7d7f",
   "metadata": {},
   "outputs": [
    {
     "data": {
      "text/plain": [
       "17673   2022-02-22 13:21:00\n",
       "Name: date_time, dtype: datetime64[ns]"
      ]
     },
     "execution_count": 62,
     "metadata": {},
     "output_type": "execute_result"
    }
   ],
   "source": [
    "df.date_time.tail(1)"
   ]
  },
  {
   "cell_type": "code",
   "execution_count": null,
   "id": "f4d3fb71",
   "metadata": {},
   "outputs": [],
   "source": [
    "if max(tidy_format.datetime) <= pd.to_datetime(last_record[0]):\n",
    "            \n",
    "            print(\"Records are upto date!\\n\\nCheck if you updated the chat data at data/chat_data.txt\\n\")\n",
    "\n",
    "        else:\n",
    "\n",
    "            new_records = tidy_format[tidy_format.datetime > last_record[0]]"
   ]
  },
  {
   "cell_type": "code",
   "execution_count": 45,
   "id": "64a6b5f5",
   "metadata": {},
   "outputs": [],
   "source": [
    "dataset = chats[1:]"
   ]
  },
  {
   "cell_type": "code",
   "execution_count": 46,
   "id": "549d3425",
   "metadata": {},
   "outputs": [],
   "source": [
    "\n",
    "cleaned_data = []\n",
    "for line in dataset:\n",
    "    # Check, whether it is a new line or not\n",
    "    # If the following characters are in the line -> assumption it is NOT a new line\n",
    "    if '/' in line and ':' in line and ',' in line and '-' in line:\n",
    "        # grab the info and cut it out\n",
    "        date = line.split(\",\")[0]\n",
    "        line2 = line[len(date):]\n",
    "        time = line2.split(\"-\")[0][2:]\n",
    "        line3 = line2[len(time):]\n",
    "        name = line3.split(\":\")[0][4:]\n",
    "        line4 = line3[len(name):]\n",
    "        message = line4[6:-1] # strip newline charactor\n",
    "        cleaned_data.append([date, time, name, message])\n",
    "\n",
    "    # else, assumption -> new line. Append new line to previous 'message'\n",
    "    else:\n",
    "        new = cleaned_data[-1][-1] + \" \" + line\n",
    "        cleaned_data[-1][-1] = new"
   ]
  },
  {
   "cell_type": "code",
   "execution_count": 47,
   "id": "9c4da14e",
   "metadata": {},
   "outputs": [],
   "source": [
    "df = pd.DataFrame(cleaned_data, columns = ['Date', 'Time', 'Name', 'Message'])"
   ]
  },
  {
   "cell_type": "code",
   "execution_count": 74,
   "id": "2b647233",
   "metadata": {},
   "outputs": [
    {
     "data": {
      "text/html": [
       "<div>\n",
       "<style scoped>\n",
       "    .dataframe tbody tr th:only-of-type {\n",
       "        vertical-align: middle;\n",
       "    }\n",
       "\n",
       "    .dataframe tbody tr th {\n",
       "        vertical-align: top;\n",
       "    }\n",
       "\n",
       "    .dataframe thead th {\n",
       "        text-align: right;\n",
       "    }\n",
       "</style>\n",
       "<table border=\"1\" class=\"dataframe\">\n",
       "  <thead>\n",
       "    <tr style=\"text-align: right;\">\n",
       "      <th></th>\n",
       "      <th>Date</th>\n",
       "      <th>Time</th>\n",
       "      <th>Name</th>\n",
       "      <th>Message</th>\n",
       "      <th>date_time</th>\n",
       "    </tr>\n",
       "  </thead>\n",
       "  <tbody>\n",
       "    <tr>\n",
       "      <th>0</th>\n",
       "      <td>06/10/2019</td>\n",
       "      <td>4:06 pm</td>\n",
       "      <td>+27 61 290 0591 created group \"Young Data Prof...</td>\n",
       "      <td></td>\n",
       "      <td>2019-10-06 16:06:00</td>\n",
       "    </tr>\n",
       "    <tr>\n",
       "      <th>1</th>\n",
       "      <td>19/09/2021</td>\n",
       "      <td>11:27 pm</td>\n",
       "      <td>You joined using this group's invite link\\n</td>\n",
       "      <td></td>\n",
       "      <td>2021-09-19 23:27:00</td>\n",
       "    </tr>\n",
       "    <tr>\n",
       "      <th>2</th>\n",
       "      <td>19/09/2021</td>\n",
       "      <td>11:30 pm</td>\n",
       "      <td>+234 816 062 6971</td>\n",
       "      <td>😂 that was fast</td>\n",
       "      <td>2021-09-19 23:30:00</td>\n",
       "    </tr>\n",
       "    <tr>\n",
       "      <th>3</th>\n",
       "      <td>19/09/2021</td>\n",
       "      <td>11:31 pm</td>\n",
       "      <td>+234 818 368 5814</td>\n",
       "      <td>This one that people are leaving 😂😂😂</td>\n",
       "      <td>2021-09-19 23:31:00</td>\n",
       "    </tr>\n",
       "    <tr>\n",
       "      <th>4</th>\n",
       "      <td>19/09/2021</td>\n",
       "      <td>11:31 pm</td>\n",
       "      <td>Ability</td>\n",
       "      <td>Mad o😂😂</td>\n",
       "      <td>2021-09-19 23:31:00</td>\n",
       "    </tr>\n",
       "    <tr>\n",
       "      <th>...</th>\n",
       "      <td>...</td>\n",
       "      <td>...</td>\n",
       "      <td>...</td>\n",
       "      <td>...</td>\n",
       "      <td>...</td>\n",
       "    </tr>\n",
       "    <tr>\n",
       "      <th>17669</th>\n",
       "      <td>22/02/2022</td>\n",
       "      <td>1:19 pm</td>\n",
       "      <td>+234 708 531 6273</td>\n",
       "      <td>One thing I have come to find out is that thes...</td>\n",
       "      <td>2022-02-22 13:19:00</td>\n",
       "    </tr>\n",
       "    <tr>\n",
       "      <th>17670</th>\n",
       "      <td>22/02/2022</td>\n",
       "      <td>1:20 pm</td>\n",
       "      <td>+234 703 806 5681</td>\n",
       "      <td>The list gives you the standard cost of everyt...</td>\n",
       "      <td>2022-02-22 13:20:00</td>\n",
       "    </tr>\n",
       "    <tr>\n",
       "      <th>17671</th>\n",
       "      <td>22/02/2022</td>\n",
       "      <td>1:20 pm</td>\n",
       "      <td>+234 816 381 5935</td>\n",
       "      <td>QESaid. I completely agree with you on this.</td>\n",
       "      <td>2022-02-22 13:20:00</td>\n",
       "    </tr>\n",
       "    <tr>\n",
       "      <th>17672</th>\n",
       "      <td>22/02/2022</td>\n",
       "      <td>1:21 pm</td>\n",
       "      <td>+234 703 806 5681</td>\n",
       "      <td>London, like Dublin, has multiple zones. Same ...</td>\n",
       "      <td>2022-02-22 13:21:00</td>\n",
       "    </tr>\n",
       "    <tr>\n",
       "      <th>17673</th>\n",
       "      <td>22/02/2022</td>\n",
       "      <td>1:21 pm</td>\n",
       "      <td>+234 816 381 5935</td>\n",
       "      <td>I'm in the UK for about two weeks and I can't ...</td>\n",
       "      <td>2022-02-22 13:21:00</td>\n",
       "    </tr>\n",
       "  </tbody>\n",
       "</table>\n",
       "<p>17674 rows × 5 columns</p>\n",
       "</div>"
      ],
      "text/plain": [
       "             Date       Time  \\\n",
       "0      06/10/2019   4:06 pm    \n",
       "1      19/09/2021  11:27 pm    \n",
       "2      19/09/2021  11:30 pm    \n",
       "3      19/09/2021  11:31 pm    \n",
       "4      19/09/2021  11:31 pm    \n",
       "...           ...        ...   \n",
       "17669  22/02/2022   1:19 pm    \n",
       "17670  22/02/2022   1:20 pm    \n",
       "17671  22/02/2022   1:20 pm    \n",
       "17672  22/02/2022   1:21 pm    \n",
       "17673  22/02/2022   1:21 pm    \n",
       "\n",
       "                                                    Name  \\\n",
       "0      +27 61 290 0591 created group \"Young Data Prof...   \n",
       "1            You joined using this group's invite link\\n   \n",
       "2                                      +234 816 062 6971   \n",
       "3                                      +234 818 368 5814   \n",
       "4                                                Ability   \n",
       "...                                                  ...   \n",
       "17669                                  +234 708 531 6273   \n",
       "17670                                  +234 703 806 5681   \n",
       "17671                                  +234 816 381 5935   \n",
       "17672                                  +234 703 806 5681   \n",
       "17673                                  +234 816 381 5935   \n",
       "\n",
       "                                                 Message           date_time  \n",
       "0                                                        2019-10-06 16:06:00  \n",
       "1                                                        2021-09-19 23:27:00  \n",
       "2                                        😂 that was fast 2021-09-19 23:30:00  \n",
       "3                   This one that people are leaving 😂😂😂 2021-09-19 23:31:00  \n",
       "4                                                Mad o😂😂 2021-09-19 23:31:00  \n",
       "...                                                  ...                 ...  \n",
       "17669  One thing I have come to find out is that thes... 2022-02-22 13:19:00  \n",
       "17670  The list gives you the standard cost of everyt... 2022-02-22 13:20:00  \n",
       "17671       QESaid. I completely agree with you on this. 2022-02-22 13:20:00  \n",
       "17672  London, like Dublin, has multiple zones. Same ... 2022-02-22 13:21:00  \n",
       "17673  I'm in the UK for about two weeks and I can't ... 2022-02-22 13:21:00  \n",
       "\n",
       "[17674 rows x 5 columns]"
      ]
     },
     "execution_count": 74,
     "metadata": {},
     "output_type": "execute_result"
    }
   ],
   "source": [
    "df"
   ]
  },
  {
   "cell_type": "code",
   "execution_count": 51,
   "id": "6af2f309",
   "metadata": {},
   "outputs": [],
   "source": [
    "df[\"date_time\"] = df.Date + ' ' + df.Time , format=\"%d/%m/%Y %I:%M:%S %p\""
   ]
  },
  {
   "cell_type": "code",
   "execution_count": 73,
   "id": "608d50ba",
   "metadata": {},
   "outputs": [],
   "source": [
    "df[\"date_time\"] = pd.to_datetime(df.Date + ' ' + df.Time, errors = 'coerce', dayfirst=True)"
   ]
  }
 ],
 "metadata": {
  "kernelspec": {
   "display_name": "Python 3 (ipykernel)",
   "language": "python",
   "name": "python3"
  },
  "language_info": {
   "codemirror_mode": {
    "name": "ipython",
    "version": 3
   },
   "file_extension": ".py",
   "mimetype": "text/x-python",
   "name": "python",
   "nbconvert_exporter": "python",
   "pygments_lexer": "ipython3",
   "version": "3.7.11"
  }
 },
 "nbformat": 4,
 "nbformat_minor": 5
}
